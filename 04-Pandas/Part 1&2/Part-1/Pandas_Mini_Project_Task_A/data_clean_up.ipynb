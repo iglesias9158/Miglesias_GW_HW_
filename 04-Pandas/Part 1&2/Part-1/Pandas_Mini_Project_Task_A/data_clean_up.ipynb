{
 "cells": [
  {
   "cell_type": "markdown",
   "metadata": {},
   "source": [
    "**BIG BIG HINT! Look in the instructions to guide you on this task.**"
   ]
  },
  {
   "cell_type": "code",
   "execution_count": 2,
   "metadata": {},
   "outputs": [],
   "source": [
    "# Dependencies\n",
    "import pandas as pd"
   ]
  },
  {
   "cell_type": "code",
   "execution_count": 3,
   "metadata": {},
   "outputs": [],
   "source": [
    "# load CSV\n",
    "csv_path = \"Resources/2016-FCC-New-Coders-Survey-Data.csv\"\n"
   ]
  },
  {
   "cell_type": "code",
   "execution_count": 4,
   "metadata": {},
   "outputs": [
    {
     "name": "stderr",
     "output_type": "stream",
     "text": [
      "C:\\Users\\igles\\Anaconda3\\lib\\site-packages\\IPython\\core\\interactiveshell.py:3057: DtypeWarning: Columns (21,57) have mixed types. Specify dtype option on import or set low_memory=False.\n",
      "  interactivity=interactivity, compiler=compiler, result=result)\n"
     ]
    }
   ],
   "source": [
    "# Read with pandas\n",
    "surveydata_df = pd.read_csv(csv_path)\n",
    "\n"
   ]
  },
  {
   "cell_type": "code",
   "execution_count": 5,
   "metadata": {},
   "outputs": [
    {
     "data": {
      "text/html": [
       "<div>\n",
       "<style scoped>\n",
       "    .dataframe tbody tr th:only-of-type {\n",
       "        vertical-align: middle;\n",
       "    }\n",
       "\n",
       "    .dataframe tbody tr th {\n",
       "        vertical-align: top;\n",
       "    }\n",
       "\n",
       "    .dataframe thead th {\n",
       "        text-align: right;\n",
       "    }\n",
       "</style>\n",
       "<table border=\"1\" class=\"dataframe\">\n",
       "  <thead>\n",
       "    <tr style=\"text-align: right;\">\n",
       "      <th></th>\n",
       "      <th>Age</th>\n",
       "      <th>AttendedBootcamp</th>\n",
       "      <th>BootcampFinish</th>\n",
       "      <th>BootcampFullJobAfter</th>\n",
       "      <th>BootcampLoanYesNo</th>\n",
       "      <th>BootcampMonthsAgo</th>\n",
       "      <th>Bootcamp</th>\n",
       "      <th>BootcampPostSalary</th>\n",
       "      <th>BootcampRecommend</th>\n",
       "      <th>ChildrenNumber</th>\n",
       "      <th>...</th>\n",
       "      <th>ResourceSoloLearn</th>\n",
       "      <th>ResourceStackOverflow</th>\n",
       "      <th>ResourceTreehouse</th>\n",
       "      <th>ResourceUdacity</th>\n",
       "      <th>ResourceUdemy</th>\n",
       "      <th>ResourceW3Schools</th>\n",
       "      <th>ResourceYouTube</th>\n",
       "      <th>SchoolDegree</th>\n",
       "      <th>SchoolMajor</th>\n",
       "      <th>StudentDebtOwe</th>\n",
       "    </tr>\n",
       "  </thead>\n",
       "  <tbody>\n",
       "    <tr>\n",
       "      <th>0</th>\n",
       "      <td>28.0</td>\n",
       "      <td>0.0</td>\n",
       "      <td>NaN</td>\n",
       "      <td>NaN</td>\n",
       "      <td>NaN</td>\n",
       "      <td>NaN</td>\n",
       "      <td>NaN</td>\n",
       "      <td>NaN</td>\n",
       "      <td>NaN</td>\n",
       "      <td>NaN</td>\n",
       "      <td>...</td>\n",
       "      <td>NaN</td>\n",
       "      <td>NaN</td>\n",
       "      <td>NaN</td>\n",
       "      <td>NaN</td>\n",
       "      <td>NaN</td>\n",
       "      <td>NaN</td>\n",
       "      <td>NaN</td>\n",
       "      <td>some college credit, no degree</td>\n",
       "      <td>NaN</td>\n",
       "      <td>20000.0</td>\n",
       "    </tr>\n",
       "    <tr>\n",
       "      <th>1</th>\n",
       "      <td>22.0</td>\n",
       "      <td>0.0</td>\n",
       "      <td>NaN</td>\n",
       "      <td>NaN</td>\n",
       "      <td>NaN</td>\n",
       "      <td>NaN</td>\n",
       "      <td>NaN</td>\n",
       "      <td>NaN</td>\n",
       "      <td>NaN</td>\n",
       "      <td>NaN</td>\n",
       "      <td>...</td>\n",
       "      <td>NaN</td>\n",
       "      <td>NaN</td>\n",
       "      <td>NaN</td>\n",
       "      <td>NaN</td>\n",
       "      <td>1.0</td>\n",
       "      <td>NaN</td>\n",
       "      <td>NaN</td>\n",
       "      <td>some college credit, no degree</td>\n",
       "      <td>NaN</td>\n",
       "      <td>NaN</td>\n",
       "    </tr>\n",
       "    <tr>\n",
       "      <th>2</th>\n",
       "      <td>19.0</td>\n",
       "      <td>0.0</td>\n",
       "      <td>NaN</td>\n",
       "      <td>NaN</td>\n",
       "      <td>NaN</td>\n",
       "      <td>NaN</td>\n",
       "      <td>NaN</td>\n",
       "      <td>NaN</td>\n",
       "      <td>NaN</td>\n",
       "      <td>NaN</td>\n",
       "      <td>...</td>\n",
       "      <td>NaN</td>\n",
       "      <td>NaN</td>\n",
       "      <td>NaN</td>\n",
       "      <td>NaN</td>\n",
       "      <td>NaN</td>\n",
       "      <td>NaN</td>\n",
       "      <td>NaN</td>\n",
       "      <td>high school diploma or equivalent (GED)</td>\n",
       "      <td>NaN</td>\n",
       "      <td>NaN</td>\n",
       "    </tr>\n",
       "    <tr>\n",
       "      <th>3</th>\n",
       "      <td>26.0</td>\n",
       "      <td>0.0</td>\n",
       "      <td>NaN</td>\n",
       "      <td>NaN</td>\n",
       "      <td>NaN</td>\n",
       "      <td>NaN</td>\n",
       "      <td>NaN</td>\n",
       "      <td>NaN</td>\n",
       "      <td>NaN</td>\n",
       "      <td>NaN</td>\n",
       "      <td>...</td>\n",
       "      <td>NaN</td>\n",
       "      <td>NaN</td>\n",
       "      <td>NaN</td>\n",
       "      <td>NaN</td>\n",
       "      <td>NaN</td>\n",
       "      <td>NaN</td>\n",
       "      <td>NaN</td>\n",
       "      <td>bachelor's degree</td>\n",
       "      <td>Cinematography And Film</td>\n",
       "      <td>7000.0</td>\n",
       "    </tr>\n",
       "    <tr>\n",
       "      <th>4</th>\n",
       "      <td>20.0</td>\n",
       "      <td>0.0</td>\n",
       "      <td>NaN</td>\n",
       "      <td>NaN</td>\n",
       "      <td>NaN</td>\n",
       "      <td>NaN</td>\n",
       "      <td>NaN</td>\n",
       "      <td>NaN</td>\n",
       "      <td>NaN</td>\n",
       "      <td>NaN</td>\n",
       "      <td>...</td>\n",
       "      <td>NaN</td>\n",
       "      <td>NaN</td>\n",
       "      <td>NaN</td>\n",
       "      <td>NaN</td>\n",
       "      <td>NaN</td>\n",
       "      <td>NaN</td>\n",
       "      <td>NaN</td>\n",
       "      <td>some college credit, no degree</td>\n",
       "      <td>NaN</td>\n",
       "      <td>NaN</td>\n",
       "    </tr>\n",
       "  </tbody>\n",
       "</table>\n",
       "<p>5 rows × 113 columns</p>\n",
       "</div>"
      ],
      "text/plain": [
       "    Age  AttendedBootcamp  BootcampFinish  BootcampFullJobAfter  \\\n",
       "0  28.0               0.0             NaN                   NaN   \n",
       "1  22.0               0.0             NaN                   NaN   \n",
       "2  19.0               0.0             NaN                   NaN   \n",
       "3  26.0               0.0             NaN                   NaN   \n",
       "4  20.0               0.0             NaN                   NaN   \n",
       "\n",
       "   BootcampLoanYesNo  BootcampMonthsAgo Bootcamp  BootcampPostSalary  \\\n",
       "0                NaN                NaN      NaN                 NaN   \n",
       "1                NaN                NaN      NaN                 NaN   \n",
       "2                NaN                NaN      NaN                 NaN   \n",
       "3                NaN                NaN      NaN                 NaN   \n",
       "4                NaN                NaN      NaN                 NaN   \n",
       "\n",
       "   BootcampRecommend  ChildrenNumber  ... ResourceSoloLearn  \\\n",
       "0                NaN             NaN  ...               NaN   \n",
       "1                NaN             NaN  ...               NaN   \n",
       "2                NaN             NaN  ...               NaN   \n",
       "3                NaN             NaN  ...               NaN   \n",
       "4                NaN             NaN  ...               NaN   \n",
       "\n",
       "   ResourceStackOverflow  ResourceTreehouse  ResourceUdacity  ResourceUdemy  \\\n",
       "0                    NaN                NaN              NaN            NaN   \n",
       "1                    NaN                NaN              NaN            1.0   \n",
       "2                    NaN                NaN              NaN            NaN   \n",
       "3                    NaN                NaN              NaN            NaN   \n",
       "4                    NaN                NaN              NaN            NaN   \n",
       "\n",
       "   ResourceW3Schools  ResourceYouTube  \\\n",
       "0                NaN              NaN   \n",
       "1                NaN              NaN   \n",
       "2                NaN              NaN   \n",
       "3                NaN              NaN   \n",
       "4                NaN              NaN   \n",
       "\n",
       "                              SchoolDegree              SchoolMajor  \\\n",
       "0           some college credit, no degree                      NaN   \n",
       "1           some college credit, no degree                      NaN   \n",
       "2  high school diploma or equivalent (GED)                      NaN   \n",
       "3                        bachelor's degree  Cinematography And Film   \n",
       "4           some college credit, no degree                      NaN   \n",
       "\n",
       "   StudentDebtOwe  \n",
       "0         20000.0  \n",
       "1             NaN  \n",
       "2             NaN  \n",
       "3          7000.0  \n",
       "4             NaN  \n",
       "\n",
       "[5 rows x 113 columns]"
      ]
     },
     "execution_count": 5,
     "metadata": {},
     "output_type": "execute_result"
    }
   ],
   "source": [
    "# Inspect all columns\n",
    "\n",
    "surveydata_df.head()"
   ]
  },
  {
   "cell_type": "code",
   "execution_count": 6,
   "metadata": {},
   "outputs": [],
   "source": [
    "# Extract only columns 0, 1, 2, 3, 4, 7, 8, 9, 10, 11, 29, 30, 32, 36, 37, 45, 48, 56, 110, 111\n",
    "\n",
    "reduced_coders_pd = surveydata_df.iloc[:,[0, 1, 2, 3, 4, 7, 8, 9, 10, 11, 29, 30, 32, 36, 37, 45, 48, 56, 110, 111]]\n"
   ]
  },
  {
   "cell_type": "code",
   "execution_count": 7,
   "metadata": {},
   "outputs": [],
   "source": [
    "# Change \"0\" to \"No\" and \"1\" to \"Yes\" in response columns\n",
    "\n",
    "reduced_coders_pd = reduced_coders_pd.replace ({0.0: \"No\", 1.0:\"Yes\"})"
   ]
  },
  {
   "cell_type": "code",
   "execution_count": 8,
   "metadata": {},
   "outputs": [
    {
     "data": {
      "text/plain": [
       "15620"
      ]
     },
     "execution_count": 8,
     "metadata": {},
     "output_type": "execute_result"
    }
   ],
   "source": [
    "# Calculate total number of respondents in survey\n",
    "\n",
    "total_surveyed = len(reduced_coders_pd)\n",
    "total_surveyed"
   ]
  },
  {
   "cell_type": "code",
   "execution_count": 9,
   "metadata": {},
   "outputs": [],
   "source": [
    "# Extract rows corresponding only to people who attended a bootcamp\n",
    "\n",
    "attended_bootcamp = reduced_coders_pd.loc[reduced_coders_pd[\"AttendedBootcamp\"] == \"Yes\"]"
   ]
  },
  {
   "cell_type": "code",
   "execution_count": 10,
   "metadata": {},
   "outputs": [
    {
     "data": {
      "text/plain": [
       "63740.50606060606"
      ]
     },
     "execution_count": 10,
     "metadata": {},
     "output_type": "execute_result"
    }
   ],
   "source": [
    "# Calculate average age of attendees\n",
    "\n",
    "average_age = attended_bootcamp[\"Age\"].mean()\n",
    "\n",
    "\n",
    "# Calculate how many people attended a bootcamp\n",
    "\n",
    "amount_attended = attended_bootcamp[\"AttendedBootcamp\"].count()\n",
    "\n",
    "# Calculate how many attendees hold degrees\n",
    "\n",
    "holds_degree = attended_bootcamp[\"SchoolDegree\"].count()\n",
    "\n",
    "# Count number of attendees who self-identify as male; female; or are of non-binary gender identification\n",
    "\n",
    "total_gender = attended_bootcamp[\"Gender\"].count()\n",
    "male = attended_bootcamp[\"Gender\"].value_counts()['male']\n",
    "female = attended_bootcamp[\"Gender\"].value_counts()['female']\n",
    "non_gender_specific = total_gender - male - female\n",
    "\n",
    "# Calculate percentage of respondents who attended a bootcamp\n",
    "percent_attended = amount_attended / total_surveyed * 100\n",
    "\n",
    "\n",
    "# Calculate percentage of respondents belonging to each gender\n",
    "male_percent = (male/total_gender) * 100\n",
    "female_percent = (female/total_gender) * 100\n",
    "non_gender_specific_percent = (non_gender_specific/total_gender)*100\n",
    "\n",
    "# Calculate percentage of attendees with a school degree\n",
    "degree_percentage = (holds_degree/amount_attended) * 100\n",
    "\n",
    "# Calculate average post-bootcamp salary\n",
    "avg_salary = attended_bootcamp[\"BootcampPostSalary\"].mean()\n",
    "avg_salary"
   ]
  },
  {
   "cell_type": "code",
   "execution_count": 11,
   "metadata": {},
   "outputs": [
    {
     "data": {
      "text/html": [
       "<div>\n",
       "<style scoped>\n",
       "    .dataframe tbody tr th:only-of-type {\n",
       "        vertical-align: middle;\n",
       "    }\n",
       "\n",
       "    .dataframe tbody tr th {\n",
       "        vertical-align: top;\n",
       "    }\n",
       "\n",
       "    .dataframe thead th {\n",
       "        text-align: right;\n",
       "    }\n",
       "</style>\n",
       "<table border=\"1\" class=\"dataframe\">\n",
       "  <thead>\n",
       "    <tr style=\"text-align: right;\">\n",
       "      <th></th>\n",
       "      <th>Total Surveyed</th>\n",
       "      <th>Total Bootcamp attendees</th>\n",
       "      <th>% attended bootcamp</th>\n",
       "      <th>% Male</th>\n",
       "      <th>% Female</th>\n",
       "      <th>% non-gender specific</th>\n",
       "      <th>Has a degree</th>\n",
       "      <th>Average Post Boocamp Salary</th>\n",
       "    </tr>\n",
       "  </thead>\n",
       "  <tbody>\n",
       "    <tr>\n",
       "      <th>0</th>\n",
       "      <td>15620</td>\n",
       "      <td>6.1</td>\n",
       "      <td>6.1</td>\n",
       "      <td>59.54</td>\n",
       "      <td>39.14</td>\n",
       "      <td>1.32</td>\n",
       "      <td>87.3</td>\n",
       "      <td>63740.51</td>\n",
       "    </tr>\n",
       "  </tbody>\n",
       "</table>\n",
       "</div>"
      ],
      "text/plain": [
       "   Total Surveyed  Total Bootcamp attendees  % attended bootcamp  % Male  \\\n",
       "0           15620                       6.1                  6.1   59.54   \n",
       "\n",
       "   % Female  % non-gender specific  Has a degree  Average Post Boocamp Salary  \n",
       "0     39.14                   1.32          87.3                     63740.51  "
      ]
     },
     "execution_count": 11,
     "metadata": {},
     "output_type": "execute_result"
    }
   ],
   "source": [
    "# Create a new table consolodating above calculations\n",
    "bootcamp_breakdown = pd.DataFrame({\"Total Surveyed\" : [total_surveyed],\n",
    "                                 \"Total Bootcamp attendees\" : [percent_attended],\n",
    "                                 \"% attended bootcamp\" : [percent_attended],\n",
    "                                 \"Avg. Age\" : [average_age],\n",
    "                                 \"% Male\" : [male_percent],\n",
    "                                 \"% Female\" : [female_percent],\n",
    "                                 \"% non-gender specific\" : [non_gender_specific_percent],\n",
    "                                 \"Has a degree\" : [degree_percentage],\n",
    "                                 \"Average Post Boocamp Salary\" : [avg_salary]})\n",
    "bootcamp_breakdown = bootcamp_breakdown[[\"Total Surveyed\",\"Total Bootcamp attendees\", \"% attended bootcamp\", \"% Male\", \"% Female\",\"% non-gender specific\", \"Has a degree\", \"Average Post Boocamp Salary\"]]\n",
    "bootcamp_breakdown = bootcamp_breakdown.round(2)\n",
    "\n",
    "bootcamp_breakdown"
   ]
  },
  {
   "cell_type": "code",
   "execution_count": 12,
   "metadata": {},
   "outputs": [],
   "source": [
    "# Improve formatting before outputting spreadsheet\n",
    "bootcamp_breakdown[\"% Male\"] =bootcamp_breakdown[\"% Male\"].map(\"{0:,.2f}%\".format)\n",
    "bootcamp_breakdown[\"% Female\"] =bootcamp_breakdown[\"% Female\"].map(\"{0:,.2f}%\".format)\n",
    "bootcamp_breakdown[\"% attended bootcamp\"] =bootcamp_breakdown[\"% attended bootcamp\"].map(\"{0:,.2f}%\".format)\n",
    "bootcamp_breakdown[\"% non-gender specific\"] =bootcamp_breakdown[\"% non-gender specific\"].map(\"{0:,.2f}%\".format)\n",
    "bootcamp_breakdown[\"Has a degree\"] =bootcamp_breakdown[\"Has a degree\"].map(\"{0:,.2f}%\".format)\n",
    "bootcamp_breakdown[\"Average Post Boocamp Salary\"] =bootcamp_breakdown[\"Average Post Boocamp Salary\"].map(\"${0:,.0f}%\".format)"
   ]
  },
  {
   "cell_type": "code",
   "execution_count": 13,
   "metadata": {},
   "outputs": [],
   "source": [
    "# Export to Excel\n",
    "bootcamp_breakdown.to_excel(\"output/bootcamppart1.xlsx\", index=False)"
   ]
  }
 ],
 "metadata": {
  "anaconda-cloud": {},
  "kernelspec": {
   "display_name": "Python 3",
   "language": "python",
   "name": "python3"
  },
  "language_info": {
   "codemirror_mode": {
    "name": "ipython",
    "version": 3
   },
   "file_extension": ".py",
   "mimetype": "text/x-python",
   "name": "python",
   "nbconvert_exporter": "python",
   "pygments_lexer": "ipython3",
   "version": "3.7.3"
  }
 },
 "nbformat": 4,
 "nbformat_minor": 2
}
