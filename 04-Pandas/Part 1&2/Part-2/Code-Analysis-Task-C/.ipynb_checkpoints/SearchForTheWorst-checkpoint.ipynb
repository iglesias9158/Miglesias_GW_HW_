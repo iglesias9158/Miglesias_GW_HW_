{
 "cells": [
  {
   "cell_type": "markdown",
   "metadata": {},
   "source": [
    "# Search For The Worst\n",
    "\n",
    "#### The objective of this assignment is for you to explain what is happening in each cell in clear, understandable language. \n",
    "\n",
    "#### _There is no need to code._ The code is there for you, and it already runs. Your task is only to explain what each line in each cell does.\n",
    "\n",
    "#### The placeholder cells should describe what happens in the cell below it."
   ]
  },
  {
   "cell_type": "markdown",
   "metadata": {},
   "source": [
    "**Example**: The cell below imports `pandas` as a dependency because `pandas` functions will be used throughout the program, such as the Pandas `DataFrame` as well as the `read_csv` function."
   ]
  },
  {
   "cell_type": "code",
   "execution_count": null,
   "metadata": {},
   "outputs": [],
   "source": [
    "import pandas as pd\n",
    "import numpy as np"
   ]
  },
  {
   "cell_type": "markdown",
   "metadata": {},
   "source": [
    "**Example**: The cell below creates a reference to teh csv file and stores it in a variable called `csv_path`. It then creates a DataFrame using the `pd.read_csv` function. The output of the `read_csv` function is a DataFrame."
   ]
  },
  {
   "cell_type": "code",
   "execution_count": null,
   "metadata": {},
   "outputs": [],
   "source": [
    "# Create reference to CSV file\n",
    "csv_path = \"Resources/Soccer2018Data.csv\"\n",
    "\n",
    "# Import the CSV into a pandas DataFrame\n",
    "soccer_2018_df = pd.read_csv(csv_path, low_memory=False)\n",
    "soccer_2018_df"
   ]
  },
  {
   "cell_type": "markdown",
   "metadata": {},
   "source": [
    "This line of code is finding all the unique values in the soccer_2018_df dataframe in the column of Preferred Position. .unique() essentially takes out repeat values and prints all the values once."
   ]
  },
  {
   "cell_type": "code",
   "execution_count": null,
   "metadata": {},
   "outputs": [],
   "source": [
    "soccer_2018_df[\"Preferred Position\"].unique()"
   ]
  },
  {
   "cell_type": "markdown",
   "metadata": {},
   "source": [
    "This line of code is setting the value strikers_2018_df to whatever is found, through the loc function, where The column of Preferred Position says \"ST\". Then we print that out with the first 5 rows."
   ]
  },
  {
   "cell_type": "code",
   "execution_count": null,
   "metadata": {},
   "outputs": [],
   "source": [
    "strikers_2018_df = soccer_2018_df.loc[soccer_2018_df[\"Preferred Position\"] == \"ST\", :]\n",
    "strikers_2018_df.head()"
   ]
  },
  {
   "cell_type": "markdown",
   "metadata": {},
   "source": [
    " Here we are sorting our values by the \"ST\" column, as in the last question, we were asked to only print out columns who had a Preferred Position of \"ST\". We then reset the index using reset_index because we have new sorting locations based on the previous line with the sort_values function. The we print out the first 5 rows based on these new conditions using .head()"
   ]
  },
  {
   "cell_type": "code",
   "execution_count": null,
   "metadata": {},
   "outputs": [],
   "source": [
    "# Sort the DataFrame by the values in the \"ST\" column to find the worst\n",
    "strikers_2018_df = strikers_2018_df.sort_values(\"ST\")\n",
    "\n",
    "# Reset the index so that the index is now based on the sorting locations\n",
    "strikers_2018_df = strikers_2018_df.reset_index(drop=True)\n",
    "\n",
    "strikers_2018_df.head()"
   ]
  },
  {
   "cell_type": "markdown",
   "metadata": {},
   "source": [
    "This line of code is assigning the the striker with the worse ST to the variable worst_striker. loc[0, :] is saying to locate the first column in strikers_2018_df and then the : is saying find all the values associated with that first column. You then print it all out."
   ]
  },
  {
   "cell_type": "code",
   "execution_count": null,
   "metadata": {
    "scrolled": false
   },
   "outputs": [],
   "source": [
    "worst_striker = strikers_2018_df.loc[0, :]\n",
    "worst_striker"
   ]
  }
 ],
 "metadata": {
  "kernelspec": {
   "display_name": "Python 3",
   "language": "python",
   "name": "python3"
  },
  "language_info": {
   "codemirror_mode": {
    "name": "ipython",
    "version": 3
   },
   "file_extension": ".py",
   "mimetype": "text/x-python",
   "name": "python",
   "nbconvert_exporter": "python",
   "pygments_lexer": "ipython3",
   "version": "3.7.3"
  }
 },
 "nbformat": 4,
 "nbformat_minor": 2
}
